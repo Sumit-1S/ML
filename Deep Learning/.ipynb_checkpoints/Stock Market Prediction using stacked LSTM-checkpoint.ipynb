{
 "cells": [
  {
   "cell_type": "code",
   "execution_count": 23,
   "metadata": {},
   "outputs": [],
   "source": [
    "import numpy as np\n",
    "import pandas as pd\n",
    "import matplotlib.pyplot as plt\n",
    "import tensorflow as tf\n",
    "from tensorflow.keras.models import Sequential\n",
    "from tensorflow.keras.layers import Dense,LSTM,Flatten\n",
    "from sklearn.preprocessing import MinMaxScaler"
   ]
  },
  {
   "cell_type": "code",
   "execution_count": 78,
   "metadata": {},
   "outputs": [],
   "source": [
    "data = pd.read_csv(\"D:/Machine_Learning/ML/datasets/Apple_Stock_Price.csv\")"
   ]
  },
  {
   "cell_type": "code",
   "execution_count": 25,
   "metadata": {},
   "outputs": [],
   "source": [
    "# data_test = pd.read_csv(\"D:/Machine_Learning/ML/datasets/Google_Stock_Price_Test.csv\")"
   ]
  },
  {
   "cell_type": "code",
   "execution_count": 79,
   "metadata": {},
   "outputs": [
    {
     "data": {
      "text/html": [
       "<div>\n",
       "<style scoped>\n",
       "    .dataframe tbody tr th:only-of-type {\n",
       "        vertical-align: middle;\n",
       "    }\n",
       "\n",
       "    .dataframe tbody tr th {\n",
       "        vertical-align: top;\n",
       "    }\n",
       "\n",
       "    .dataframe thead th {\n",
       "        text-align: right;\n",
       "    }\n",
       "</style>\n",
       "<table border=\"1\" class=\"dataframe\">\n",
       "  <thead>\n",
       "    <tr style=\"text-align: right;\">\n",
       "      <th></th>\n",
       "      <th>Date</th>\n",
       "      <th>Open</th>\n",
       "      <th>High</th>\n",
       "      <th>Low</th>\n",
       "      <th>Close</th>\n",
       "      <th>Volume</th>\n",
       "    </tr>\n",
       "  </thead>\n",
       "  <tbody>\n",
       "    <tr>\n",
       "      <th>0</th>\n",
       "      <td>1/3/2012</td>\n",
       "      <td>325.25</td>\n",
       "      <td>332.83</td>\n",
       "      <td>324.97</td>\n",
       "      <td>663.59</td>\n",
       "      <td>7,380,500</td>\n",
       "    </tr>\n",
       "    <tr>\n",
       "      <th>1</th>\n",
       "      <td>1/4/2012</td>\n",
       "      <td>331.27</td>\n",
       "      <td>333.87</td>\n",
       "      <td>329.08</td>\n",
       "      <td>666.45</td>\n",
       "      <td>5,749,400</td>\n",
       "    </tr>\n",
       "    <tr>\n",
       "      <th>2</th>\n",
       "      <td>1/5/2012</td>\n",
       "      <td>329.83</td>\n",
       "      <td>330.75</td>\n",
       "      <td>326.89</td>\n",
       "      <td>657.21</td>\n",
       "      <td>6,590,300</td>\n",
       "    </tr>\n",
       "    <tr>\n",
       "      <th>3</th>\n",
       "      <td>1/6/2012</td>\n",
       "      <td>328.34</td>\n",
       "      <td>328.77</td>\n",
       "      <td>323.68</td>\n",
       "      <td>648.24</td>\n",
       "      <td>5,405,900</td>\n",
       "    </tr>\n",
       "    <tr>\n",
       "      <th>4</th>\n",
       "      <td>1/9/2012</td>\n",
       "      <td>322.04</td>\n",
       "      <td>322.29</td>\n",
       "      <td>309.46</td>\n",
       "      <td>620.76</td>\n",
       "      <td>11,688,800</td>\n",
       "    </tr>\n",
       "  </tbody>\n",
       "</table>\n",
       "</div>"
      ],
      "text/plain": [
       "       Date    Open    High     Low   Close      Volume\n",
       "0  1/3/2012  325.25  332.83  324.97  663.59   7,380,500\n",
       "1  1/4/2012  331.27  333.87  329.08  666.45   5,749,400\n",
       "2  1/5/2012  329.83  330.75  326.89  657.21   6,590,300\n",
       "3  1/6/2012  328.34  328.77  323.68  648.24   5,405,900\n",
       "4  1/9/2012  322.04  322.29  309.46  620.76  11,688,800"
      ]
     },
     "execution_count": 79,
     "metadata": {},
     "output_type": "execute_result"
    }
   ],
   "source": [
    "data_train.head()"
   ]
  },
  {
   "cell_type": "code",
   "execution_count": 27,
   "metadata": {},
   "outputs": [
    {
     "data": {
      "text/html": [
       "<div>\n",
       "<style scoped>\n",
       "    .dataframe tbody tr th:only-of-type {\n",
       "        vertical-align: middle;\n",
       "    }\n",
       "\n",
       "    .dataframe tbody tr th {\n",
       "        vertical-align: top;\n",
       "    }\n",
       "\n",
       "    .dataframe thead th {\n",
       "        text-align: right;\n",
       "    }\n",
       "</style>\n",
       "<table border=\"1\" class=\"dataframe\">\n",
       "  <thead>\n",
       "    <tr style=\"text-align: right;\">\n",
       "      <th></th>\n",
       "      <th>Date</th>\n",
       "      <th>Open</th>\n",
       "      <th>High</th>\n",
       "      <th>Low</th>\n",
       "      <th>Close</th>\n",
       "      <th>Volume</th>\n",
       "    </tr>\n",
       "  </thead>\n",
       "  <tbody>\n",
       "    <tr>\n",
       "      <th>0</th>\n",
       "      <td>1/3/2017</td>\n",
       "      <td>778.81</td>\n",
       "      <td>789.63</td>\n",
       "      <td>775.80</td>\n",
       "      <td>786.14</td>\n",
       "      <td>1,657,300</td>\n",
       "    </tr>\n",
       "    <tr>\n",
       "      <th>1</th>\n",
       "      <td>1/4/2017</td>\n",
       "      <td>788.36</td>\n",
       "      <td>791.34</td>\n",
       "      <td>783.16</td>\n",
       "      <td>786.90</td>\n",
       "      <td>1,073,000</td>\n",
       "    </tr>\n",
       "    <tr>\n",
       "      <th>2</th>\n",
       "      <td>1/5/2017</td>\n",
       "      <td>786.08</td>\n",
       "      <td>794.48</td>\n",
       "      <td>785.02</td>\n",
       "      <td>794.02</td>\n",
       "      <td>1,335,200</td>\n",
       "    </tr>\n",
       "    <tr>\n",
       "      <th>3</th>\n",
       "      <td>1/6/2017</td>\n",
       "      <td>795.26</td>\n",
       "      <td>807.90</td>\n",
       "      <td>792.20</td>\n",
       "      <td>806.15</td>\n",
       "      <td>1,640,200</td>\n",
       "    </tr>\n",
       "    <tr>\n",
       "      <th>4</th>\n",
       "      <td>1/9/2017</td>\n",
       "      <td>806.40</td>\n",
       "      <td>809.97</td>\n",
       "      <td>802.83</td>\n",
       "      <td>806.65</td>\n",
       "      <td>1,272,400</td>\n",
       "    </tr>\n",
       "  </tbody>\n",
       "</table>\n",
       "</div>"
      ],
      "text/plain": [
       "       Date    Open    High     Low   Close     Volume\n",
       "0  1/3/2017  778.81  789.63  775.80  786.14  1,657,300\n",
       "1  1/4/2017  788.36  791.34  783.16  786.90  1,073,000\n",
       "2  1/5/2017  786.08  794.48  785.02  794.02  1,335,200\n",
       "3  1/6/2017  795.26  807.90  792.20  806.15  1,640,200\n",
       "4  1/9/2017  806.40  809.97  802.83  806.65  1,272,400"
      ]
     },
     "execution_count": 27,
     "metadata": {},
     "output_type": "execute_result"
    }
   ],
   "source": [
    "data_test.head()"
   ]
  },
  {
   "cell_type": "code",
   "execution_count": 28,
   "metadata": {},
   "outputs": [
    {
     "data": {
      "text/plain": [
       "0    332.83\n",
       "1    333.87\n",
       "2    330.75\n",
       "3    328.77\n",
       "4    322.29\n",
       "Name: High, dtype: float64"
      ]
     },
     "execution_count": 28,
     "metadata": {},
     "output_type": "execute_result"
    }
   ],
   "source": [
    "xtrain = data_train.reset_index()['High']\n",
    "xtest = data_test.reset_index()['High']\n",
    "xtrain.head()"
   ]
  },
  {
   "cell_type": "code",
   "execution_count": 29,
   "metadata": {},
   "outputs": [
    {
     "data": {
      "text/plain": [
       "(1258,)"
      ]
     },
     "execution_count": 29,
     "metadata": {},
     "output_type": "execute_result"
    }
   ],
   "source": [
    "xtrain.shape"
   ]
  },
  {
   "cell_type": "code",
   "execution_count": 30,
   "metadata": {},
   "outputs": [
    {
     "data": {
      "text/plain": [
       "[<matplotlib.lines.Line2D at 0x1e9099b1438>]"
      ]
     },
     "execution_count": 30,
     "metadata": {},
     "output_type": "execute_result"
    },
    {
     "data": {
      "image/png": "[encoded data removed]",
      "text/plain": [
       "<Figure size 432x288 with 1 Axes>"
      ]
     },
     "metadata": {
      "needs_background": "light"
     },
     "output_type": "display_data"
    }
   ],
   "source": [
    "plt.plot(xtrain)"
   ]
  },
  {
   "cell_type": "code",
   "execution_count": 31,
   "metadata": {},
   "outputs": [],
   "source": [
    "scaler = MinMaxScaler(feature_range=(0,1))\n",
    "xtrain = scaler.fit_transform(np.array(xtrain).reshape(-1,1))\n",
    "xtest = scaler.fit_transform(np.array(xtest).reshape(-1,1))"
   ]
  },
  {
   "cell_type": "code",
   "execution_count": 32,
   "metadata": {},
   "outputs": [
    {
     "data": {
      "text/plain": [
       "(1258, 1)"
      ]
     },
     "execution_count": 32,
     "metadata": {},
     "output_type": "execute_result"
    }
   ],
   "source": [
    "xtrain.shape"
   ]
  },
  {
   "cell_type": "code",
   "execution_count": 33,
   "metadata": {},
   "outputs": [
    {
     "data": {
      "text/plain": [
       "array([[0.09640129],\n",
       "       [0.09834351],\n",
       "       [0.09251685],\n",
       "       ...,\n",
       "       [0.95807422],\n",
       "       [0.94257381],\n",
       "       [0.93669113]])"
      ]
     },
     "execution_count": 33,
     "metadata": {},
     "output_type": "execute_result"
    }
   ],
   "source": [
    "xtrain"
   ]
  },
  {
   "cell_type": "code",
   "execution_count": 34,
   "metadata": {},
   "outputs": [
    {
     "data": {
      "text/plain": [
       "(20, 1)"
      ]
     },
     "execution_count": 34,
     "metadata": {},
     "output_type": "execute_result"
    }
   ],
   "source": [
    "xtest.shape"
   ]
  },
  {
   "cell_type": "code",
   "execution_count": 35,
   "metadata": {},
   "outputs": [
    {
     "data": {
      "text/plain": [
       "array([[0.        ],\n",
       "       [0.03268349],\n",
       "       [0.09269878],\n",
       "       [0.34919725],\n",
       "       [0.38876147],\n",
       "       [0.37270642],\n",
       "       [0.35397554],\n",
       "       [0.33944954],\n",
       "       [0.41265291],\n",
       "       [0.33467125],\n",
       "       [0.31689602],\n",
       "       [0.37939602],\n",
       "       [0.33027523],\n",
       "       [0.5970948 ],\n",
       "       [0.69323394],\n",
       "       [0.88188073],\n",
       "       [0.92450306],\n",
       "       [1.        ],\n",
       "       [0.50095566],\n",
       "       [0.2220948 ]])"
      ]
     },
     "execution_count": 35,
     "metadata": {},
     "output_type": "execute_result"
    }
   ],
   "source": [
    "xtest"
   ]
  },
  {
   "cell_type": "code",
   "execution_count": 36,
   "metadata": {},
   "outputs": [],
   "source": [
    "training_size = int(len(xtrain))\n",
    "val_size = int(len(xtest)) "
   ]
  },
  {
   "cell_type": "code",
   "execution_count": 37,
   "metadata": {},
   "outputs": [],
   "source": [
    "def create_dataset(dataset, time_step=1):\n",
    "    dataX, dataY = [],[]\n",
    "    for i in range(len(dataset)-time_step-1):\n",
    "        a = dataset[i:(i+time_step),0]\n",
    "        dataX.append(a)\n",
    "        dataY.append(dataset[i+time_step,0])\n",
    "    return np.array(dataX),np.array(dataY)"
   ]
  },
  {
   "cell_type": "code",
   "execution_count": 43,
   "metadata": {},
   "outputs": [],
   "source": [
    "time_step = 17\n",
    "x_train, y_train = create_dataset(xtrain,time_step)\n",
    "x_test, y_test = create_dataset(xtest,time_step)"
   ]
  },
  {
   "cell_type": "code",
   "execution_count": 44,
   "metadata": {},
   "outputs": [
    {
     "data": {
      "text/plain": [
       "array([[0.09640129, 0.09834351, 0.09251685, ..., 0.02153249, 0.01318468,\n",
       "        0.00926289],\n",
       "       [0.09834351, 0.09251685, 0.08881917, ..., 0.01318468, 0.00926289,\n",
       "        0.01469737],\n",
       "       [0.09251685, 0.08881917, 0.07671765, ..., 0.00926289, 0.01469737,\n",
       "        0.01439857],\n",
       "       ...,\n",
       "       [0.89386894, 0.88294396, 0.90143239, ..., 0.96264963, 0.95637477,\n",
       "        0.95529161],\n",
       "       [0.88294396, 0.90143239, 0.91063925, ..., 0.95637477, 0.95529161,\n",
       "        0.96485331],\n",
       "       [0.90143239, 0.91063925, 0.91536407, ..., 0.95529161, 0.96485331,\n",
       "        0.95807422]])"
      ]
     },
     "execution_count": 44,
     "metadata": {},
     "output_type": "execute_result"
    }
   ],
   "source": [
    "x_train"
   ]
  },
  {
   "cell_type": "code",
   "execution_count": 45,
   "metadata": {},
   "outputs": [
    {
     "name": "stdout",
     "output_type": "stream",
     "text": [
      "(1240, 17)\n",
      "(1240,)\n"
     ]
    },
    {
     "data": {
      "text/plain": [
       "(None, None)"
      ]
     },
     "execution_count": 45,
     "metadata": {},
     "output_type": "execute_result"
    }
   ],
   "source": [
    "print(x_train.shape),print(y_train.shape)"
   ]
  },
  {
   "cell_type": "code",
   "execution_count": 46,
   "metadata": {},
   "outputs": [
    {
     "name": "stdout",
     "output_type": "stream",
     "text": [
      "(2, 17)\n",
      "(2,)\n"
     ]
    },
    {
     "data": {
      "text/plain": [
       "(None, None)"
      ]
     },
     "execution_count": 46,
     "metadata": {},
     "output_type": "execute_result"
    }
   ],
   "source": [
    "print(x_test.shape),print(y_test.shape)"
   ]
  },
  {
   "cell_type": "code",
   "execution_count": 47,
   "metadata": {},
   "outputs": [],
   "source": [
    "x_train = x_train.reshape(x_train.shape[0],x_train.shape[1],1)\n",
    "x_test = x_test.reshape(x_test.shape[0],x_test.shape[1],1)"
   ]
  },
  {
   "cell_type": "code",
   "execution_count": 48,
   "metadata": {},
   "outputs": [],
   "source": [
    "model = Sequential()\n",
    "model.add(LSTM(50,input_shape=(100,1),\n",
    "               activation='relu',return_sequences=True))\n",
    "model.add(LSTM(50,activation='relu',return_sequences=True))\n",
    "model.add(LSTM(50,activation='relu'))\n",
    "model.add(Dense(1))"
   ]
  },
  {
   "cell_type": "code",
   "execution_count": 49,
   "metadata": {},
   "outputs": [],
   "source": [
    "model.compile(loss='mean_squared_error',optimizer='adam')"
   ]
  },
  {
   "cell_type": "code",
   "execution_count": 50,
   "metadata": {},
   "outputs": [
    {
     "name": "stdout",
     "output_type": "stream",
     "text": [
      "Model: \"sequential\"\n",
      "_________________________________________________________________\n",
      "Layer (type)                 Output Shape              Param #   \n",
      "=================================================================\n",
      "lstm (LSTM)                  (None, 100, 50)           10400     \n",
      "_________________________________________________________________\n",
      "lstm_1 (LSTM)                (None, 100, 50)           20200     \n",
      "_________________________________________________________________\n",
      "lstm_2 (LSTM)                (None, 50)                20200     \n",
      "_________________________________________________________________\n",
      "dense (Dense)                (None, 1)                 51        \n",
      "=================================================================\n",
      "Total params: 50,851\n",
      "Trainable params: 50,851\n",
      "Non-trainable params: 0\n",
      "_________________________________________________________________\n"
     ]
    }
   ],
   "source": [
    "model.summary()"
   ]
  },
  {
   "cell_type": "code",
   "execution_count": 51,
   "metadata": {},
   "outputs": [
    {
     "name": "stdout",
     "output_type": "stream",
     "text": [
      "Epoch 1/100\n",
      "WARNING:tensorflow:Model was constructed with shape (None, 100, 1) for input KerasTensor(type_spec=TensorSpec(shape=(None, 100, 1), dtype=tf.float32, name='lstm_input'), name='lstm_input', description=\"created by layer 'lstm_input'\"), but it was called on an input with incompatible shape (None, 17, 1).\n",
      "WARNING:tensorflow:Model was constructed with shape (None, 100, 1) for input KerasTensor(type_spec=TensorSpec(shape=(None, 100, 1), dtype=tf.float32, name='lstm_input'), name='lstm_input', description=\"created by layer 'lstm_input'\"), but it was called on an input with incompatible shape (None, 17, 1).\n",
      "21/21 [==============================] - ETA: 0s - loss: 0.2512WARNING:tensorflow:Model was constructed with shape (None, 100, 1) for input KerasTensor(type_spec=TensorSpec(shape=(None, 100, 1), dtype=tf.float32, name='lstm_input'), name='lstm_input', description=\"created by layer 'lstm_input'\"), but it was called on an input with incompatible shape (None, 17, 1).\n",
      "21/21 [==============================] - 3s 48ms/step - loss: 0.2474 - val_loss: 0.1141\n",
      "Epoch 2/100\n",
      "21/21 [==============================] - 0s 21ms/step - loss: 0.0211 - val_loss: 0.1625\n",
      "Epoch 3/100\n",
      "21/21 [==============================] - 0s 19ms/step - loss: 0.0048 - val_loss: 0.2348\n",
      "Epoch 4/100\n",
      "21/21 [==============================] - 1s 25ms/step - loss: 0.0019 - val_loss: 0.2009\n",
      "Epoch 5/100\n",
      "21/21 [==============================] - 1s 26ms/step - loss: 0.0015 - val_loss: 0.2057\n",
      "Epoch 6/100\n",
      "21/21 [==============================] - 0s 22ms/step - loss: 0.0015 - val_loss: 0.2038\n",
      "Epoch 7/100\n",
      "21/21 [==============================] - 1s 24ms/step - loss: 0.0013 - val_loss: 0.2061\n",
      "Epoch 8/100\n",
      "21/21 [==============================] - 1s 30ms/step - loss: 0.0013 - val_loss: 0.2021\n",
      "Epoch 9/100\n",
      "21/21 [==============================] - 1s 29ms/step - loss: 0.0012 - val_loss: 0.2011\n",
      "Epoch 10/100\n",
      "21/21 [==============================] - 1s 27ms/step - loss: 0.0013 - val_loss: 0.1996\n",
      "Epoch 11/100\n",
      "21/21 [==============================] - 1s 26ms/step - loss: 0.0013 - val_loss: 0.1954\n",
      "Epoch 12/100\n",
      "21/21 [==============================] - 1s 26ms/step - loss: 0.0012 - val_loss: 0.2006\n",
      "Epoch 13/100\n",
      "21/21 [==============================] - 1s 30ms/step - loss: 0.0013 - val_loss: 0.2008\n",
      "Epoch 14/100\n",
      "21/21 [==============================] - 1s 27ms/step - loss: 0.0014 - val_loss: 0.1985\n",
      "Epoch 15/100\n",
      "21/21 [==============================] - 1s 30ms/step - loss: 0.0013 - val_loss: 0.1900\n",
      "Epoch 16/100\n",
      "21/21 [==============================] - 1s 25ms/step - loss: 0.0012 - val_loss: 0.1850\n",
      "Epoch 17/100\n",
      "21/21 [==============================] - 0s 23ms/step - loss: 0.0012 - val_loss: 0.1906\n",
      "Epoch 18/100\n",
      "21/21 [==============================] - 1s 26ms/step - loss: 0.0014 - val_loss: 0.1892\n",
      "Epoch 19/100\n",
      "21/21 [==============================] - 0s 23ms/step - loss: 0.0013 - val_loss: 0.1810\n",
      "Epoch 20/100\n",
      "21/21 [==============================] - 1s 28ms/step - loss: 0.0011 - val_loss: 0.1804\n",
      "Epoch 21/100\n",
      "21/21 [==============================] - 1s 24ms/step - loss: 0.0012 - val_loss: 0.1811\n",
      "Epoch 22/100\n",
      "21/21 [==============================] - 1s 25ms/step - loss: 0.0011 - val_loss: 0.1782\n",
      "Epoch 23/100\n",
      "21/21 [==============================] - 1s 30ms/step - loss: 0.0011 - val_loss: 0.1723\n",
      "Epoch 24/100\n",
      "21/21 [==============================] - 1s 35ms/step - loss: 0.0013 - val_loss: 0.1697\n",
      "Epoch 25/100\n",
      "21/21 [==============================] - 1s 36ms/step - loss: 0.0013 - val_loss: 0.1819\n",
      "Epoch 26/100\n",
      "21/21 [==============================] - 1s 31ms/step - loss: 0.0011 - val_loss: 0.1708\n",
      "Epoch 27/100\n",
      "21/21 [==============================] - 1s 28ms/step - loss: 0.0012 - val_loss: 0.1731\n",
      "Epoch 28/100\n",
      "21/21 [==============================] - 0s 23ms/step - loss: 9.3195e-04 - val_loss: 0.1643\n",
      "Epoch 29/100\n",
      "21/21 [==============================] - 1s 29ms/step - loss: 9.0179e-04 - val_loss: 0.1612\n",
      "Epoch 30/100\n",
      "21/21 [==============================] - 1s 28ms/step - loss: 0.0011 - val_loss: 0.1597\n",
      "Epoch 31/100\n",
      "21/21 [==============================] - 1s 27ms/step - loss: 0.0011 - val_loss: 0.1664\n",
      "Epoch 32/100\n",
      "21/21 [==============================] - 1s 28ms/step - loss: 9.9278e-04 - val_loss: 0.1648\n",
      "Epoch 33/100\n",
      "21/21 [==============================] - 1s 29ms/step - loss: 9.6597e-04 - val_loss: 0.1571\n",
      "Epoch 34/100\n",
      "21/21 [==============================] - 1s 30ms/step - loss: 0.0012 - val_loss: 0.1641\n",
      "Epoch 35/100\n",
      "21/21 [==============================] - 1s 32ms/step - loss: 9.3050e-04 - val_loss: 0.1618\n",
      "Epoch 36/100\n",
      "21/21 [==============================] - 1s 25ms/step - loss: 9.8319e-04 - val_loss: 0.1525\n",
      "Epoch 37/100\n",
      "21/21 [==============================] - 1s 26ms/step - loss: 0.0012 - val_loss: 0.1728\n",
      "Epoch 38/100\n",
      "21/21 [==============================] - 0s 24ms/step - loss: 0.0011 - val_loss: 0.1626\n",
      "Epoch 39/100\n",
      "21/21 [==============================] - 0s 24ms/step - loss: 0.0012 - val_loss: 0.1607\n",
      "Epoch 40/100\n",
      "21/21 [==============================] - 0s 23ms/step - loss: 9.4860e-04 - val_loss: 0.1577\n",
      "Epoch 41/100\n",
      "21/21 [==============================] - 0s 24ms/step - loss: 8.3554e-04 - val_loss: 0.1547\n",
      "Epoch 42/100\n",
      "21/21 [==============================] - 0s 23ms/step - loss: 9.4436e-04 - val_loss: 0.1538\n",
      "Epoch 43/100\n",
      "21/21 [==============================] - 0s 23ms/step - loss: 7.6832e-04 - val_loss: 0.1529\n",
      "Epoch 44/100\n",
      "21/21 [==============================] - 1s 25ms/step - loss: 8.5412e-04 - val_loss: 0.1481\n",
      "Epoch 45/100\n",
      "21/21 [==============================] - 1s 26ms/step - loss: 7.0974e-04 - val_loss: 0.1524\n",
      "Epoch 46/100\n",
      "21/21 [==============================] - 1s 24ms/step - loss: 6.5976e-04 - val_loss: 0.1471\n",
      "Epoch 47/100\n",
      "21/21 [==============================] - 1s 26ms/step - loss: 7.0957e-04 - val_loss: 0.1463\n",
      "Epoch 48/100\n",
      "21/21 [==============================] - 1s 26ms/step - loss: 7.0141e-04 - val_loss: 0.1455\n",
      "Epoch 49/100\n",
      "21/21 [==============================] - 0s 24ms/step - loss: 8.7813e-04 - val_loss: 0.1442\n",
      "Epoch 50/100\n",
      "21/21 [==============================] - 0s 23ms/step - loss: 6.6824e-04 - val_loss: 0.1435\n",
      "Epoch 51/100\n",
      "21/21 [==============================] - 0s 24ms/step - loss: 7.3702e-04 - val_loss: 0.1425\n",
      "Epoch 52/100\n",
      "21/21 [==============================] - 0s 23ms/step - loss: 7.9402e-04 - val_loss: 0.1412\n",
      "Epoch 53/100\n",
      "21/21 [==============================] - 1s 24ms/step - loss: 7.5597e-04 - val_loss: 0.1391\n",
      "Epoch 54/100\n",
      "21/21 [==============================] - 0s 24ms/step - loss: 8.0073e-04 - val_loss: 0.1365\n",
      "Epoch 55/100\n",
      "21/21 [==============================] - 1s 29ms/step - loss: 8.2695e-04 - val_loss: 0.1397\n",
      "Epoch 56/100\n",
      "21/21 [==============================] - 1s 24ms/step - loss: 6.4523e-04 - val_loss: 0.1374\n",
      "Epoch 57/100\n",
      "21/21 [==============================] - 1s 26ms/step - loss: 7.4227e-04 - val_loss: 0.1379\n",
      "Epoch 58/100\n",
      "21/21 [==============================] - 0s 23ms/step - loss: 6.0563e-04 - val_loss: 0.1340\n",
      "Epoch 59/100\n",
      "21/21 [==============================] - 0s 24ms/step - loss: 7.8831e-04 - val_loss: 0.1339\n",
      "Epoch 60/100\n",
      "21/21 [==============================] - 0s 24ms/step - loss: 6.4019e-04 - val_loss: 0.1395\n",
      "Epoch 61/100\n",
      "21/21 [==============================] - 1s 25ms/step - loss: 6.7474e-04 - val_loss: 0.1339\n",
      "Epoch 62/100\n",
      "21/21 [==============================] - 1s 25ms/step - loss: 5.7096e-04 - val_loss: 0.1334\n",
      "Epoch 63/100\n",
      "21/21 [==============================] - 0s 23ms/step - loss: 5.4399e-04 - val_loss: 0.1331\n",
      "Epoch 64/100\n",
      "21/21 [==============================] - 0s 23ms/step - loss: 6.9018e-04 - val_loss: 0.1303\n",
      "Epoch 65/100\n",
      "21/21 [==============================] - 1s 24ms/step - loss: 7.0344e-04 - val_loss: 0.1345\n",
      "Epoch 66/100\n",
      "21/21 [==============================] - 1s 24ms/step - loss: 8.4761e-04 - val_loss: 0.1289\n",
      "Epoch 67/100\n",
      "21/21 [==============================] - 0s 23ms/step - loss: 7.3439e-04 - val_loss: 0.1317\n",
      "Epoch 68/100\n",
      "21/21 [==============================] - 0s 23ms/step - loss: 6.9090e-04 - val_loss: 0.1313\n",
      "Epoch 69/100\n",
      "21/21 [==============================] - 0s 23ms/step - loss: 5.6096e-04 - val_loss: 0.1274\n",
      "Epoch 70/100\n",
      "21/21 [==============================] - 0s 24ms/step - loss: 5.2061e-04 - val_loss: 0.1307\n",
      "Epoch 71/100\n"
     ]
    },
    {
     "name": "stdout",
     "output_type": "stream",
     "text": [
      "21/21 [==============================] - 0s 24ms/step - loss: 7.4251e-04 - val_loss: 0.1207\n",
      "Epoch 72/100\n",
      "21/21 [==============================] - 0s 23ms/step - loss: 8.8806e-04 - val_loss: 0.1270\n",
      "Epoch 73/100\n",
      "21/21 [==============================] - 0s 23ms/step - loss: 5.6824e-04 - val_loss: 0.1228\n",
      "Epoch 74/100\n",
      "21/21 [==============================] - 0s 23ms/step - loss: 6.1222e-04 - val_loss: 0.1237\n",
      "Epoch 75/100\n",
      "21/21 [==============================] - 1s 35ms/step - loss: 6.0282e-04 - val_loss: 0.1202\n",
      "Epoch 76/100\n",
      "21/21 [==============================] - 1s 36ms/step - loss: 4.9339e-04 - val_loss: 0.1221\n",
      "Epoch 77/100\n",
      "21/21 [==============================] - 1s 25ms/step - loss: 4.7216e-04 - val_loss: 0.1162\n",
      "Epoch 78/100\n",
      "21/21 [==============================] - 1s 29ms/step - loss: 6.2483e-04 - val_loss: 0.1128\n",
      "Epoch 79/100\n",
      "21/21 [==============================] - 1s 24ms/step - loss: 6.8639e-04 - val_loss: 0.1166\n",
      "Epoch 80/100\n",
      "21/21 [==============================] - 0s 24ms/step - loss: 6.9535e-04 - val_loss: 0.1168\n",
      "Epoch 81/100\n",
      "21/21 [==============================] - 1s 26ms/step - loss: 5.6888e-04 - val_loss: 0.1227\n",
      "Epoch 82/100\n",
      "21/21 [==============================] - 1s 24ms/step - loss: 6.3536e-04 - val_loss: 0.1117\n",
      "Epoch 83/100\n",
      "21/21 [==============================] - 0s 23ms/step - loss: 6.4864e-04 - val_loss: 0.1158\n",
      "Epoch 84/100\n",
      "21/21 [==============================] - 0s 23ms/step - loss: 4.4157e-04 - val_loss: 0.1100\n",
      "Epoch 85/100\n",
      "21/21 [==============================] - 0s 24ms/step - loss: 4.9994e-04 - val_loss: 0.1109\n",
      "Epoch 86/100\n",
      "21/21 [==============================] - 0s 23ms/step - loss: 5.8713e-04 - val_loss: 0.1092\n",
      "Epoch 87/100\n",
      "21/21 [==============================] - 0s 24ms/step - loss: 4.5446e-04 - val_loss: 0.1094\n",
      "Epoch 88/100\n",
      "21/21 [==============================] - 1s 24ms/step - loss: 5.3782e-04 - val_loss: 0.1076\n",
      "Epoch 89/100\n",
      "21/21 [==============================] - 0s 24ms/step - loss: 4.3912e-04 - val_loss: 0.1063\n",
      "Epoch 90/100\n",
      "21/21 [==============================] - 0s 24ms/step - loss: 4.6439e-04 - val_loss: 0.1058\n",
      "Epoch 91/100\n",
      "21/21 [==============================] - 0s 23ms/step - loss: 3.4858e-04 - val_loss: 0.1083\n",
      "Epoch 92/100\n",
      "21/21 [==============================] - 1s 24ms/step - loss: 5.4543e-04 - val_loss: 0.1038\n",
      "Epoch 93/100\n",
      "21/21 [==============================] - 1s 27ms/step - loss: 3.7850e-04 - val_loss: 0.1007\n",
      "Epoch 94/100\n",
      "21/21 [==============================] - 0s 23ms/step - loss: 4.6253e-04 - val_loss: 0.1032\n",
      "Epoch 95/100\n",
      "21/21 [==============================] - 0s 23ms/step - loss: 4.9060e-04 - val_loss: 0.1039\n",
      "Epoch 96/100\n",
      "21/21 [==============================] - 0s 24ms/step - loss: 5.2318e-04 - val_loss: 0.1018\n",
      "Epoch 97/100\n",
      "21/21 [==============================] - 1s 25ms/step - loss: 5.2161e-04 - val_loss: 0.1019\n",
      "Epoch 98/100\n",
      "21/21 [==============================] - 1s 25ms/step - loss: 5.8989e-04 - val_loss: 0.1040\n",
      "Epoch 99/100\n",
      "21/21 [==============================] - 0s 23ms/step - loss: 4.1771e-04 - val_loss: 0.1033\n",
      "Epoch 100/100\n",
      "21/21 [==============================] - 1s 26ms/step - loss: 4.0852e-04 - val_loss: 0.1065\n"
     ]
    },
    {
     "data": {
      "text/plain": [
       "<tensorflow.python.keras.callbacks.History at 0x1e90ab3bda0>"
      ]
     },
     "execution_count": 51,
     "metadata": {},
     "output_type": "execute_result"
    }
   ],
   "source": [
    "model.fit(x_train,y_train,validation_data=(x_test,y_test),epochs=100,batch_size=60,verbose=1)"
   ]
  },
  {
   "cell_type": "code",
   "execution_count": 59,
   "metadata": {},
   "outputs": [],
   "source": [
    "train_predict = model.predict(x_train)\n",
    "test_predict = model.predict(x_test)"
   ]
  },
  {
   "cell_type": "code",
   "execution_count": 60,
   "metadata": {},
   "outputs": [],
   "source": [
    "train_predict = scaler.inverse_transform(train_predict)\n",
    "test_predict = scaler.inverse_transform(test_predict)"
   ]
  },
  {
   "cell_type": "code",
   "execution_count": 61,
   "metadata": {},
   "outputs": [
    {
     "data": {
      "text/plain": [
       "813.4951657858849"
      ]
     },
     "execution_count": 61,
     "metadata": {},
     "output_type": "execute_result"
    }
   ],
   "source": [
    "import math\n",
    "from sklearn.metrics import mean_squared_error\n",
    "math.sqrt(mean_squared_error(y_train,train_predict))"
   ]
  },
  {
   "cell_type": "code",
   "execution_count": 62,
   "metadata": {},
   "outputs": [
    {
     "data": {
      "text/plain": [
       "819.7329329982584"
      ]
     },
     "execution_count": 62,
     "metadata": {},
     "output_type": "execute_result"
    }
   ],
   "source": [
    "math.sqrt(mean_squared_error(y_test,test_predict))"
   ]
  },
  {
   "cell_type": "markdown",
   "metadata": {},
   "source": [
    "## Visualising result"
   ]
  },
  {
   "cell_type": "code",
   "execution_count": 75,
   "metadata": {},
   "outputs": [
    {
     "ename": "ValueError",
     "evalue": "could not broadcast input array from shape (2,1) into shape (0,6)",
     "output_type": "error",
     "traceback": [
      "\u001b[1;31m---------------------------------------------------------------------------\u001b[0m",
      "\u001b[1;31mValueError\u001b[0m                                Traceback (most recent call last)",
      "\u001b[1;32m<ipython-input-75-3dcd9a285eb5>\u001b[0m in \u001b[0;36m<module>\u001b[1;34m\u001b[0m\n\u001b[0;32m      6\u001b[0m \u001b[0mtestPredictplot\u001b[0m \u001b[1;33m=\u001b[0m \u001b[0mnp\u001b[0m\u001b[1;33m.\u001b[0m\u001b[0mempty_like\u001b[0m\u001b[1;33m(\u001b[0m\u001b[0mdata_test\u001b[0m\u001b[1;33m)\u001b[0m\u001b[1;33m\u001b[0m\u001b[1;33m\u001b[0m\u001b[0m\n\u001b[0;32m      7\u001b[0m \u001b[0mtestPredictplot\u001b[0m\u001b[1;33m[\u001b[0m\u001b[1;33m:\u001b[0m\u001b[1;33m,\u001b[0m\u001b[1;33m:\u001b[0m\u001b[1;33m]\u001b[0m\u001b[1;33m=\u001b[0m\u001b[0mnp\u001b[0m\u001b[1;33m.\u001b[0m\u001b[0mnan\u001b[0m\u001b[1;33m\u001b[0m\u001b[1;33m\u001b[0m\u001b[0m\n\u001b[1;32m----> 8\u001b[1;33m \u001b[0mtestPredictplot\u001b[0m\u001b[1;33m[\u001b[0m\u001b[0mlen\u001b[0m\u001b[1;33m(\u001b[0m\u001b[0mtest_predict\u001b[0m\u001b[1;33m)\u001b[0m\u001b[1;33m+\u001b[0m\u001b[1;33m(\u001b[0m\u001b[0mlook_back\u001b[0m\u001b[1;33m*\u001b[0m\u001b[1;36m2\u001b[0m\u001b[1;33m)\u001b[0m\u001b[1;33m+\u001b[0m\u001b[1;36m1\u001b[0m\u001b[1;33m:\u001b[0m\u001b[0mlen\u001b[0m\u001b[1;33m(\u001b[0m\u001b[0mdata_test\u001b[0m\u001b[1;33m)\u001b[0m\u001b[1;33m-\u001b[0m\u001b[1;36m1\u001b[0m\u001b[1;33m,\u001b[0m\u001b[1;33m:\u001b[0m\u001b[1;33m]\u001b[0m\u001b[1;33m=\u001b[0m\u001b[0mtest_predict\u001b[0m\u001b[1;33m\u001b[0m\u001b[1;33m\u001b[0m\u001b[0m\n\u001b[0m\u001b[0;32m      9\u001b[0m \u001b[1;33m\u001b[0m\u001b[0m\n\u001b[0;32m     10\u001b[0m \u001b[0mplt\u001b[0m\u001b[1;33m.\u001b[0m\u001b[0mpltlot\u001b[0m\u001b[1;33m(\u001b[0m\u001b[0mscaler\u001b[0m\u001b[1;33m.\u001b[0m\u001b[0minverse_transform\u001b[0m\u001b[1;33m(\u001b[0m\u001b[0mdata_train\u001b[0m\u001b[1;33m)\u001b[0m\u001b[1;33m)\u001b[0m\u001b[1;33m\u001b[0m\u001b[1;33m\u001b[0m\u001b[0m\n",
      "\u001b[1;31mValueError\u001b[0m: could not broadcast input array from shape (2,1) into shape (0,6)"
     ]
    }
   ],
   "source": [
    "look_back = 17\n",
    "trainPredictplot=np.empty_like(data_train)\n",
    "trainPredictplot[:,:]=np.nan\n",
    "trainPredictplot[look_back:len(train_predict)+look_back,:]=train_predict\n",
    "\n",
    "testPredictplot = np.empty_like(data_test)\n",
    "testPredictplot[:,:]=np.nan\n",
    "testPredictplot[len(train_predict)+(look_back*2)+1:len(data_train)-1,:]=test_predict\n",
    "\n",
    "plt.pltlot(scaler.inverse_transform(data_train))\n",
    "plt.plot(trainPredictplot)\n",
    "plt.plot(testPredictplot)\n",
    "plt.scalerhow()"
   ]
  },
  {
   "cell_type": "code",
   "execution_count": null,
   "metadata": {},
   "outputs": [],
   "source": []
  },
  {
   "cell_type": "code",
   "execution_count": null,
   "metadata": {},
   "outputs": [],
   "source": []
  }
 ],
 "metadata": {
  "kernelspec": {
   "display_name": "Python 3",
   "language": "python",
   "name": "python3"
  },
  "language_info": {
   "codemirror_mode": {
    "name": "ipython",
    "version": 3
   },
   "file_extension": ".py",
   "mimetype": "text/x-python",
   "name": "python",
   "nbconvert_exporter": "python",
   "pygments_lexer": "ipython3",
   "version": "3.7.3"
  }
 },
 "nbformat": 4,
 "nbformat_minor": 2
}
