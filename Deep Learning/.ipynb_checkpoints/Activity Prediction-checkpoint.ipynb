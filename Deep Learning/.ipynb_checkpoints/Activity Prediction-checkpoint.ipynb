{
 "cells": [
  {
   "cell_type": "code",
   "execution_count": 30,
   "metadata": {},
   "outputs": [],
   "source": [
    "import pandas as pd\n",
    "import numpy as np\n",
    "import matplotlib.pyplot as plt\n",
    "import seaborn as sns\n",
    "import warnings\n",
    "warnings.filterwarnings('ignore')\n",
    "import statistics as stats"
   ]
  },
  {
   "cell_type": "code",
   "execution_count": 39,
   "metadata": {},
   "outputs": [
    {
     "data": {
      "text/html": [
       "<div>\n",
       "<style scoped>\n",
       "    .dataframe tbody tr th:only-of-type {\n",
       "        vertical-align: middle;\n",
       "    }\n",
       "\n",
       "    .dataframe tbody tr th {\n",
       "        vertical-align: top;\n",
       "    }\n",
       "\n",
       "    .dataframe thead th {\n",
       "        text-align: right;\n",
       "    }\n",
       "</style>\n",
       "<table border=\"1\" class=\"dataframe\">\n",
       "  <thead>\n",
       "    <tr style=\"text-align: right;\">\n",
       "      <th></th>\n",
       "      <th>user</th>\n",
       "      <th>activity</th>\n",
       "      <th>timestamp</th>\n",
       "      <th>x-axis</th>\n",
       "      <th>y-axis</th>\n",
       "      <th>z-axis</th>\n",
       "    </tr>\n",
       "  </thead>\n",
       "  <tbody>\n",
       "    <tr>\n",
       "      <th>0</th>\n",
       "      <td>33</td>\n",
       "      <td>Jogging</td>\n",
       "      <td>49105962326000</td>\n",
       "      <td>-0.694638</td>\n",
       "      <td>12.680544</td>\n",
       "      <td>0.503953</td>\n",
       "    </tr>\n",
       "    <tr>\n",
       "      <th>1</th>\n",
       "      <td>33</td>\n",
       "      <td>Jogging</td>\n",
       "      <td>49106062271000</td>\n",
       "      <td>5.012288</td>\n",
       "      <td>11.264028</td>\n",
       "      <td>0.953424</td>\n",
       "    </tr>\n",
       "    <tr>\n",
       "      <th>2</th>\n",
       "      <td>33</td>\n",
       "      <td>Jogging</td>\n",
       "      <td>49106112167000</td>\n",
       "      <td>4.903325</td>\n",
       "      <td>10.882658</td>\n",
       "      <td>-0.081722</td>\n",
       "    </tr>\n",
       "    <tr>\n",
       "      <th>3</th>\n",
       "      <td>33</td>\n",
       "      <td>Jogging</td>\n",
       "      <td>49106222305000</td>\n",
       "      <td>-0.612916</td>\n",
       "      <td>18.496431</td>\n",
       "      <td>3.023717</td>\n",
       "    </tr>\n",
       "    <tr>\n",
       "      <th>4</th>\n",
       "      <td>33</td>\n",
       "      <td>Jogging</td>\n",
       "      <td>49106332290000</td>\n",
       "      <td>-1.184970</td>\n",
       "      <td>12.108489</td>\n",
       "      <td>7.205164</td>\n",
       "    </tr>\n",
       "  </tbody>\n",
       "</table>\n",
       "</div>"
      ],
      "text/plain": [
       "   user activity       timestamp    x-axis     y-axis    z-axis\n",
       "0    33  Jogging  49105962326000 -0.694638  12.680544  0.503953\n",
       "1    33  Jogging  49106062271000  5.012288  11.264028  0.953424\n",
       "2    33  Jogging  49106112167000  4.903325  10.882658 -0.081722\n",
       "3    33  Jogging  49106222305000 -0.612916  18.496431  3.023717\n",
       "4    33  Jogging  49106332290000 -1.184970  12.108489  7.205164"
      ]
     },
     "execution_count": 39,
     "metadata": {},
     "output_type": "execute_result"
    }
   ],
   "source": [
    "columns = ['user','activity','timestamp', 'x-axis', 'y-axis', 'z-axis']\n",
    "data = pd.read_csv('D:/Machine_Learning/ML/Datasets/accelerator/WISDM_ar_v1.1_raw.txt', header = None, names = columns)\n",
    "data.head()"
   ]
  },
  {
   "cell_type": "code",
   "execution_count": 40,
   "metadata": {},
   "outputs": [],
   "source": [
    "data.to_csv(\"data.csv\")"
   ]
  },
  {
   "cell_type": "code",
   "execution_count": 41,
   "metadata": {},
   "outputs": [
    {
     "data": {
      "text/plain": [
       "user         0\n",
       "activity     0\n",
       "timestamp    0\n",
       "x-axis       0\n",
       "y-axis       0\n",
       "z-axis       1\n",
       "dtype: int64"
      ]
     },
     "execution_count": 41,
     "metadata": {},
     "output_type": "execute_result"
    }
   ],
   "source": [
    "data.isna().sum()"
   ]
  },
  {
   "cell_type": "code",
   "execution_count": 42,
   "metadata": {},
   "outputs": [],
   "source": [
    "data = data.dropna(axis=0);"
   ]
  },
  {
   "cell_type": "code",
   "execution_count": 43,
   "metadata": {},
   "outputs": [
    {
     "data": {
      "text/plain": [
       "user         0\n",
       "activity     0\n",
       "timestamp    0\n",
       "x-axis       0\n",
       "y-axis       0\n",
       "z-axis       0\n",
       "dtype: int64"
      ]
     },
     "execution_count": 43,
     "metadata": {},
     "output_type": "execute_result"
    }
   ],
   "source": [
    "data.isna().sum()"
   ]
  },
  {
   "cell_type": "code",
   "execution_count": 44,
   "metadata": {},
   "outputs": [
    {
     "data": {
      "text/plain": [
       "(1098203, 6)"
      ]
     },
     "execution_count": 44,
     "metadata": {},
     "output_type": "execute_result"
    }
   ],
   "source": [
    "data.shape"
   ]
  },
  {
   "cell_type": "code",
   "execution_count": 45,
   "metadata": {},
   "outputs": [
    {
     "data": {
      "text/plain": [
       "user           int64\n",
       "activity      object\n",
       "timestamp      int64\n",
       "x-axis       float64\n",
       "y-axis       float64\n",
       "z-axis       float64\n",
       "dtype: object"
      ]
     },
     "execution_count": 45,
     "metadata": {},
     "output_type": "execute_result"
    }
   ],
   "source": [
    "data.dtypes"
   ]
  },
  {
   "cell_type": "code",
   "execution_count": 46,
   "metadata": {},
   "outputs": [],
   "source": [
    "data.sort_values(by=['user','timestamp']);"
   ]
  },
  {
   "cell_type": "code",
   "execution_count": 61,
   "metadata": {},
   "outputs": [],
   "source": [
    "random_seed = 42   \n",
    "n_time_steps = 70 \n",
    "n_features = 3 \n",
    "step = 10 \n",
    "n_classes = 6 \n",
    "n_epochs = 50       \n",
    "batch_size = 1024   \n",
    "learning_rate = 0.0025\n",
    "l2_loss = 0.0015"
   ]
  },
  {
   "cell_type": "code",
   "execution_count": 63,
   "metadata": {},
   "outputs": [
    {
     "name": "stdout",
     "output_type": "stream",
     "text": [
      "Done\n"
     ]
    }
   ],
   "source": [
    "segments = []\n",
    "labels = []\n",
    "df = data\n",
    "for i in range(0,  df.shape[0]- n_time_steps, step):  \n",
    "\n",
    "    xs = df['x-axis'].values[i: i + n_time_steps]\n",
    "\n",
    "    ys = df['y-axis'].values[i: i + n_time_steps]\n",
    "\n",
    "    zs = df['z-axis'].values[i: i + n_time_steps]\n",
    "    \n",
    "    label = stats.mode(df['activity'][i: i + 71])[0][0]\n",
    "\n",
    "    segments.append([xs, ys, zs])\n",
    "\n",
    "    labels.append(label)\n",
    "\n",
    "print(\"Done\")\n",
    "#reshape the segments which is (list of arrays) to a list\n",
    "reshaped_segments = np.asarray(segments, dtype= np.float32).reshape(-1, n_time_steps, n_features)\n",
    "\n",
    "labels = np.asarray(pd.get_dummies(labels), dtype = np.float32)\n"
   ]
  },
  {
   "cell_type": "code",
   "execution_count": 64,
   "metadata": {},
   "outputs": [
    {
     "data": {
      "text/plain": [
       "(109814, 70, 3)"
      ]
     },
     "execution_count": 64,
     "metadata": {},
     "output_type": "execute_result"
    }
   ],
   "source": [
    "reshaped_segments.shape"
   ]
  },
  {
   "cell_type": "code",
   "execution_count": 65,
   "metadata": {},
   "outputs": [],
   "source": [
    "from sklearn.model_selection import train_test_split\n",
    "X_train, X_test, y_train, y_test = train_test_split(reshaped_segments, labels, test_size = 0.2, random_state = random_seed)"
   ]
  },
  {
   "cell_type": "code",
   "execution_count": 66,
   "metadata": {},
   "outputs": [],
   "source": [
    "from keras.models import Sequential\n",
    "from keras.layers import LSTM, Dense, Flatten, Dropout"
   ]
  },
  {
   "cell_type": "code",
   "execution_count": 74,
   "metadata": {},
   "outputs": [],
   "source": [
    "model = Sequential()\n",
    "# RNN layer\n",
    "model.add(LSTM(units = 128, input_shape = (X_train.shape[1], X_train.shape[2])))\n",
    "# Dropout layer\n",
    "model.add(Dropout(0.5)) \n",
    "# Dense layer with ReLu\n",
    "model.add(Dense(units = 64, activation='relu'))\n",
    "# Softmax layer\n",
    "model.add(Dense(y_train.shape[1], activation = 'softmax'))\n",
    "# Compile model\n",
    "model.compile(loss='categorical_crossentropy', optimizer='adam', metrics=['accuracy'])"
   ]
  },
  {
   "cell_type": "code",
   "execution_count": 75,
   "metadata": {},
   "outputs": [
    {
     "name": "stdout",
     "output_type": "stream",
     "text": [
      "Model: \"sequential_6\"\n",
      "_________________________________________________________________\n",
      "Layer (type)                 Output Shape              Param #   \n",
      "=================================================================\n",
      "lstm_9 (LSTM)                (None, 128)               67584     \n",
      "_________________________________________________________________\n",
      "dropout_3 (Dropout)          (None, 128)               0         \n",
      "_________________________________________________________________\n",
      "dense_6 (Dense)              (None, 64)                8256      \n",
      "_________________________________________________________________\n",
      "dense_7 (Dense)              (None, 5)                 325       \n",
      "=================================================================\n",
      "Total params: 76,165\n",
      "Trainable params: 76,165\n",
      "Non-trainable params: 0\n",
      "_________________________________________________________________\n"
     ]
    }
   ],
   "source": [
    "model.summary()"
   ]
  },
  {
   "cell_type": "code",
   "execution_count": 76,
   "metadata": {},
   "outputs": [
    {
     "name": "stdout",
     "output_type": "stream",
     "text": [
      "Epoch 1/50\n",
      "69/69 [==============================] - 70s 979ms/step - loss: 1.1675 - accuracy: 0.5072 - val_loss: 0.5243 - val_accuracy: 0.8122\n",
      "Epoch 2/50\n",
      "69/69 [==============================] - 64s 927ms/step - loss: 0.5087 - accuracy: 0.8176 - val_loss: 0.4315 - val_accuracy: 0.8432\n",
      "Epoch 3/50\n",
      "69/69 [==============================] - 68s 988ms/step - loss: 0.4439 - accuracy: 0.8393 - val_loss: 0.4003 - val_accuracy: 0.8513\n",
      "Epoch 4/50\n",
      "69/69 [==============================] - 70s 1s/step - loss: 0.4037 - accuracy: 0.8505 - val_loss: 0.3407 - val_accuracy: 0.8718\n",
      "Epoch 5/50\n",
      "69/69 [==============================] - 65s 936ms/step - loss: 0.3651 - accuracy: 0.8636 - val_loss: 0.3231 - val_accuracy: 0.8795\n",
      "Epoch 6/50\n",
      "69/69 [==============================] - 57s 829ms/step - loss: 0.3335 - accuracy: 0.8751 - val_loss: 0.2972 - val_accuracy: 0.8892\n",
      "Epoch 7/50\n",
      "69/69 [==============================] - 62s 904ms/step - loss: 0.3016 - accuracy: 0.8859 - val_loss: 0.2686 - val_accuracy: 0.8995\n",
      "Epoch 8/50\n",
      "69/69 [==============================] - 61s 882ms/step - loss: 0.2808 - accuracy: 0.8954 - val_loss: 0.2620 - val_accuracy: 0.9014\n",
      "Epoch 9/50\n",
      "69/69 [==============================] - 62s 902ms/step - loss: 0.2610 - accuracy: 0.9031 - val_loss: 0.2302 - val_accuracy: 0.9114\n",
      "Epoch 10/50\n",
      "69/69 [==============================] - 70s 1s/step - loss: 0.2336 - accuracy: 0.9163 - val_loss: 0.2027 - val_accuracy: 0.9253\n",
      "Epoch 11/50\n",
      "69/69 [==============================] - 68s 990ms/step - loss: 0.2092 - accuracy: 0.9267 - val_loss: 0.1854 - val_accuracy: 0.9359\n",
      "Epoch 12/50\n",
      "69/69 [==============================] - 68s 988ms/step - loss: 0.1905 - accuracy: 0.9325 - val_loss: 0.1767 - val_accuracy: 0.9386\n",
      "Epoch 13/50\n",
      "69/69 [==============================] - 69s 995ms/step - loss: 0.1892 - accuracy: 0.9327 - val_loss: 0.1812 - val_accuracy: 0.9363\n",
      "Epoch 14/50\n",
      "69/69 [==============================] - 75s 1s/step - loss: 0.1754 - accuracy: 0.9390 - val_loss: 0.1604 - val_accuracy: 0.9441\n",
      "Epoch 15/50\n",
      "69/69 [==============================] - 451s 7s/step - loss: 0.1595 - accuracy: 0.9449 - val_loss: 0.1871 - val_accuracy: 0.9364\n",
      "Epoch 16/50\n",
      "69/69 [==============================] - 62s 899ms/step - loss: 0.1563 - accuracy: 0.9461 - val_loss: 0.1424 - val_accuracy: 0.9494\n",
      "Epoch 17/50\n",
      "69/69 [==============================] - 60s 872ms/step - loss: 0.1465 - accuracy: 0.9501 - val_loss: 0.1542 - val_accuracy: 0.9484\n",
      "Epoch 18/50\n",
      "69/69 [==============================] - 60s 868ms/step - loss: 0.1413 - accuracy: 0.9520 - val_loss: 0.1378 - val_accuracy: 0.9537\n",
      "Epoch 19/50\n",
      "69/69 [==============================] - 61s 884ms/step - loss: 0.1437 - accuracy: 0.9511 - val_loss: 0.1389 - val_accuracy: 0.9492\n",
      "Epoch 20/50\n",
      "69/69 [==============================] - 63s 916ms/step - loss: 0.1288 - accuracy: 0.9561 - val_loss: 0.1293 - val_accuracy: 0.9566\n",
      "Epoch 21/50\n",
      "69/69 [==============================] - 61s 881ms/step - loss: 0.1233 - accuracy: 0.9587 - val_loss: 0.1215 - val_accuracy: 0.9581\n",
      "Epoch 22/50\n",
      "69/69 [==============================] - 61s 879ms/step - loss: 0.1129 - accuracy: 0.9625 - val_loss: 0.1222 - val_accuracy: 0.9590\n",
      "Epoch 23/50\n",
      "69/69 [==============================] - 61s 878ms/step - loss: 0.1179 - accuracy: 0.9607 - val_loss: 0.1244 - val_accuracy: 0.9591\n",
      "Epoch 24/50\n",
      "69/69 [==============================] - 60s 876ms/step - loss: 0.1143 - accuracy: 0.9631 - val_loss: 0.1186 - val_accuracy: 0.9614\n",
      "Epoch 25/50\n",
      "69/69 [==============================] - 60s 877ms/step - loss: 0.1033 - accuracy: 0.9658 - val_loss: 0.1146 - val_accuracy: 0.9624\n",
      "Epoch 26/50\n",
      "69/69 [==============================] - 60s 873ms/step - loss: 0.0982 - accuracy: 0.9680 - val_loss: 0.1109 - val_accuracy: 0.9649\n",
      "Epoch 27/50\n",
      "69/69 [==============================] - 60s 875ms/step - loss: 0.1014 - accuracy: 0.9673 - val_loss: 0.1223 - val_accuracy: 0.9586\n",
      "Epoch 28/50\n",
      "69/69 [==============================] - 60s 874ms/step - loss: 0.0930 - accuracy: 0.9697 - val_loss: 0.1240 - val_accuracy: 0.9609\n",
      "Epoch 29/50\n",
      "69/69 [==============================] - 65s 948ms/step - loss: 0.0925 - accuracy: 0.9693 - val_loss: 0.1108 - val_accuracy: 0.9640\n",
      "Epoch 30/50\n",
      "69/69 [==============================] - 62s 904ms/step - loss: 0.0840 - accuracy: 0.9715 - val_loss: 0.1004 - val_accuracy: 0.9675\n",
      "Epoch 31/50\n",
      "69/69 [==============================] - 62s 899ms/step - loss: 0.0840 - accuracy: 0.9721 - val_loss: 0.1038 - val_accuracy: 0.9660\n",
      "Epoch 32/50\n",
      "69/69 [==============================] - 83s 1s/step - loss: 0.0801 - accuracy: 0.9746 - val_loss: 0.0929 - val_accuracy: 0.9701\n",
      "Epoch 33/50\n",
      "69/69 [==============================] - 73s 1s/step - loss: 0.0806 - accuracy: 0.9738 - val_loss: 0.1023 - val_accuracy: 0.9674\n",
      "Epoch 34/50\n",
      "69/69 [==============================] - 64s 928ms/step - loss: 0.0778 - accuracy: 0.9753 - val_loss: 0.1077 - val_accuracy: 0.9650\n",
      "Epoch 35/50\n",
      "69/69 [==============================] - 58s 837ms/step - loss: 0.0784 - accuracy: 0.9738 - val_loss: 0.1061 - val_accuracy: 0.9681\n",
      "Epoch 36/50\n",
      "69/69 [==============================] - 59s 852ms/step - loss: 0.0767 - accuracy: 0.9748 - val_loss: 0.0931 - val_accuracy: 0.9706\n",
      "Epoch 37/50\n",
      "69/69 [==============================] - 62s 905ms/step - loss: 0.0638 - accuracy: 0.9796 - val_loss: 0.0909 - val_accuracy: 0.9710\n",
      "Epoch 38/50\n",
      "69/69 [==============================] - 70s 1s/step - loss: 0.0644 - accuracy: 0.9793 - val_loss: 0.0919 - val_accuracy: 0.9709\n",
      "Epoch 39/50\n",
      "69/69 [==============================] - 73s 1s/step - loss: 0.0649 - accuracy: 0.9786 - val_loss: 0.1012 - val_accuracy: 0.9692\n",
      "Epoch 40/50\n",
      "69/69 [==============================] - 66s 956ms/step - loss: 0.0601 - accuracy: 0.9803 - val_loss: 0.1101 - val_accuracy: 0.9695\n",
      "Epoch 41/50\n",
      "69/69 [==============================] - 76s 1s/step - loss: 0.0600 - accuracy: 0.9801 - val_loss: 0.0919 - val_accuracy: 0.9714\n",
      "Epoch 42/50\n",
      "69/69 [==============================] - 99s 1s/step - loss: 0.0587 - accuracy: 0.9814 - val_loss: 0.0884 - val_accuracy: 0.9725\n",
      "Epoch 43/50\n",
      "69/69 [==============================] - 79s 1s/step - loss: 0.0551 - accuracy: 0.9822 - val_loss: 0.0838 - val_accuracy: 0.9743\n",
      "Epoch 44/50\n",
      "69/69 [==============================] - 97s 1s/step - loss: 0.0541 - accuracy: 0.9831 - val_loss: 0.0938 - val_accuracy: 0.9714\n",
      "Epoch 45/50\n",
      "69/69 [==============================] - 91s 1s/step - loss: 0.0514 - accuracy: 0.9834 - val_loss: 0.0847 - val_accuracy: 0.9730\n",
      "Epoch 46/50\n",
      "69/69 [==============================] - 95s 1s/step - loss: 0.0519 - accuracy: 0.9831 - val_loss: 0.0864 - val_accuracy: 0.9743\n",
      "Epoch 47/50\n",
      "69/69 [==============================] - 98s 1s/step - loss: 0.0487 - accuracy: 0.9842 - val_loss: 0.0846 - val_accuracy: 0.9745\n",
      "Epoch 48/50\n",
      "69/69 [==============================] - 76s 1s/step - loss: 0.0515 - accuracy: 0.9835 - val_loss: 0.0912 - val_accuracy: 0.9718\n",
      "Epoch 49/50\n",
      "69/69 [==============================] - 75s 1s/step - loss: 0.0501 - accuracy: 0.9845 - val_loss: 0.1012 - val_accuracy: 0.9700\n",
      "Epoch 50/50\n",
      "69/69 [==============================] - 79s 1s/step - loss: 0.0490 - accuracy: 0.9832 - val_loss: 0.0844 - val_accuracy: 0.9744\n"
     ]
    }
   ],
   "source": [
    "history = model.fit(X_train, y_train, epochs = n_epochs, validation_split = 0.20, batch_size = batch_size, verbose = 1)"
   ]
  },
  {
   "cell_type": "code",
   "execution_count": 77,
   "metadata": {},
   "outputs": [
    {
     "data": {
      "image/png": "[encoded data removed]",
      "text/plain": [
       "<Figure size 432x288 with 1 Axes>"
      ]
     },
     "metadata": {
      "needs_background": "light"
     },
     "output_type": "display_data"
    }
   ],
   "source": [
    "plt.plot(np.array(history.history['loss']), \"r--\", label = \"Train loss\")\n",
    "plt.plot(np.array(history.history['accuracy']), \"g--\", label = \"Train accuracy\")\n",
    "plt.plot(np.array(history.history['val_loss']), \"r-\", label = \"Validation loss\")\n",
    "plt.plot(np.array(history.history['val_accuracy']), \"g-\", label = \"Validation accuracy\")\n",
    "plt.title(\"Training session's progress over iterations\")\n",
    "plt.legend(loc='lower left')\n",
    "plt.ylabel('Training Progress (Loss/Accuracy)')\n",
    "plt.xlabel('Training Epoch')\n",
    "plt.ylim(0) \n",
    "plt.show()"
   ]
  },
  {
   "cell_type": "code",
   "execution_count": 78,
   "metadata": {},
   "outputs": [
    {
     "name": "stdout",
     "output_type": "stream",
     "text": [
      "22/22 [==============================] - 6s 283ms/step - loss: 0.0882 - accuracy: 0.9730\n",
      "Test Accuracy : 0.9730000495910645\n",
      "Test Loss : 0.08821295201778412\n"
     ]
    }
   ],
   "source": [
    "loss, accuracy = model.evaluate(X_test, y_test, batch_size = batch_size, verbose = 1)\n",
    "print(\"Test Accuracy :\", accuracy)\n",
    "print(\"Test Loss :\", loss)"
   ]
  },
  {
   "cell_type": "code",
   "execution_count": 80,
   "metadata": {},
   "outputs": [
    {
     "ename": "TypeError",
     "evalue": "file must have a 'write' attribute",
     "output_type": "error",
     "traceback": [
      "\u001b[1;31m---------------------------------------------------------------------------\u001b[0m",
      "\u001b[1;31mTypeError\u001b[0m                                 Traceback (most recent call last)",
      "\u001b[1;32m<ipython-input-80-9b7156a774fa>\u001b[0m in \u001b[0;36m<module>\u001b[1;34m\u001b[0m\n\u001b[0;32m      1\u001b[0m \u001b[1;32mimport\u001b[0m \u001b[0mpickle\u001b[0m\u001b[1;33m\u001b[0m\u001b[1;33m\u001b[0m\u001b[0m\n\u001b[0;32m      2\u001b[0m \u001b[0mfile\u001b[0m \u001b[1;33m=\u001b[0m \u001b[1;34m'model.sav'\u001b[0m\u001b[1;33m\u001b[0m\u001b[1;33m\u001b[0m\u001b[0m\n\u001b[1;32m----> 3\u001b[1;33m \u001b[0mpickle\u001b[0m\u001b[1;33m.\u001b[0m\u001b[0mdump\u001b[0m\u001b[1;33m(\u001b[0m\u001b[0mmodel\u001b[0m\u001b[1;33m,\u001b[0m\u001b[0mfile\u001b[0m\u001b[1;33m)\u001b[0m\u001b[1;33m\u001b[0m\u001b[1;33m\u001b[0m\u001b[0m\n\u001b[0m",
      "\u001b[1;31mTypeError\u001b[0m: file must have a 'write' attribute"
     ]
    }
   ],
   "source": [
    "import pickle\n",
    "file = 'model.sav'\n",
    "pickle.dump(model,file)"
   ]
  },
  {
   "cell_type": "code",
   "execution_count": 60,
   "metadata": {},
   "outputs": [
    {
     "data": {
      "image/png": "[encoded data removed]",
      "text/plain": [
       "<Figure size 432x288 with 2 Axes>"
      ]
     },
     "metadata": {
      "needs_background": "light"
     },
     "output_type": "display_data"
    }
   ],
   "source": [
    "from sklearn import metrics\n",
    "predictions = model.predict(X_test)\n",
    "class_labels = ['Downstairs', 'Jogging', 'Sitting', 'Standing', 'Upstairs', 'Walking']\n",
    "max_test = np.argmax(y_test, axis=1)\n",
    "max_predictions = np.argmax(predictions, axis=1)\n",
    "confusion_matrix = metrics.confusion_matrix(max_test, max_predictions)\n",
    "sns.heatmap(confusion_matrix, xticklabels = class_labels, yticklabels = class_labels, annot = True, linewidths = 0.1, fmt='d', cmap = 'YlGnBu')\n",
    "plt.title(\"Confusion matrix\", fontsize = 15)\n",
    "plt.ylabel('True label')\n",
    "plt.xlabel('Predicted label')\n",
    "plt.show()"
   ]
  },
  {
   "cell_type": "code",
   "execution_count": null,
   "metadata": {},
   "outputs": [],
   "source": []
  }
 ],
 "metadata": {
  "kernelspec": {
   "display_name": "Python 3",
   "language": "python",
   "name": "python3"
  },
  "language_info": {
   "codemirror_mode": {
    "name": "ipython",
    "version": 3
   },
   "file_extension": ".py",
   "mimetype": "text/x-python",
   "name": "python",
   "nbconvert_exporter": "python",
   "pygments_lexer": "ipython3",
   "version": "3.7.3"
  }
 },
 "nbformat": 4,
 "nbformat_minor": 2
}
