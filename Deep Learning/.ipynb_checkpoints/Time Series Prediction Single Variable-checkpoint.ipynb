{
 "cells": [
  {
   "cell_type": "code",
   "execution_count": 25,
   "metadata": {},
   "outputs": [],
   "source": [
    "import pandas as pd\n",
    "import numpy as np\n",
    "import matplotlib.pyplot as plt\n",
    "import tensorflow as tf\n",
    "from tensorflow.keras.models import Sequential\n",
    "from tensorflow.keras.layers import LSTM, Dense, Flatten"
   ]
  },
  {
   "cell_type": "code",
   "execution_count": 4,
   "metadata": {},
   "outputs": [],
   "source": [
    "def process_data(timeseries,group):\n",
    "    X,y = [],[]\n",
    "    for i in range(len(timeseries)):\n",
    "        end_ix = i+group\n",
    "        if end_ix > len(timeseries)-1:\n",
    "            break\n",
    "        seq_x, seq_y = timeseries[i:end_ix],timeseries[end_ix]\n",
    "        X.append(seq_x)\n",
    "        y.append(seq_y)\n",
    "    return np.array(X),np.array(y)"
   ]
  },
  {
   "cell_type": "code",
   "execution_count": 38,
   "metadata": {},
   "outputs": [],
   "source": [
    "timeseries = [110,125,133,146,158,172,187,196,210]\n",
    "\n",
    "group = 3\n",
    "X,y = process_data(timeseries,group)"
   ]
  },
  {
   "cell_type": "code",
   "execution_count": 39,
   "metadata": {},
   "outputs": [
    {
     "name": "stdout",
     "output_type": "stream",
     "text": [
      "[[110 125 133]\n",
      " [125 133 146]\n",
      " [133 146 158]\n",
      " [146 158 172]\n",
      " [158 172 187]\n",
      " [172 187 196]]\n",
      "[146 158 172 187 196 210]\n"
     ]
    },
    {
     "data": {
      "text/plain": [
       "(None, None)"
      ]
     },
     "execution_count": 39,
     "metadata": {},
     "output_type": "execute_result"
    }
   ],
   "source": [
    "print(X),print(y)"
   ]
  },
  {
   "cell_type": "code",
   "execution_count": 40,
   "metadata": {},
   "outputs": [
    {
     "data": {
      "text/plain": [
       "(6, 3)"
      ]
     },
     "execution_count": 40,
     "metadata": {},
     "output_type": "execute_result"
    }
   ],
   "source": [
    "X.shape"
   ]
  },
  {
   "cell_type": "code",
   "execution_count": 41,
   "metadata": {},
   "outputs": [
    {
     "data": {
      "text/plain": [
       "(6,)"
      ]
     },
     "execution_count": 41,
     "metadata": {},
     "output_type": "execute_result"
    }
   ],
   "source": [
    "y.shape"
   ]
  },
  {
   "cell_type": "code",
   "execution_count": 42,
   "metadata": {},
   "outputs": [],
   "source": [
    "n_feature = 1\n",
    "X = X.reshape((X.shape[0],X.shape[1],n_feature))"
   ]
  },
  {
   "cell_type": "code",
   "execution_count": 43,
   "metadata": {},
   "outputs": [
    {
     "data": {
      "text/plain": [
       "(6, 3, 1)"
      ]
     },
     "execution_count": 43,
     "metadata": {},
     "output_type": "execute_result"
    }
   ],
   "source": [
    "X.shape"
   ]
  },
  {
   "cell_type": "markdown",
   "metadata": {},
   "source": [
    "## Building LSTM Model"
   ]
  },
  {
   "cell_type": "code",
   "execution_count": 44,
   "metadata": {},
   "outputs": [],
   "source": [
    "model = Sequential()\n",
    "model.add(LSTM(50,input_shape=(group,n_feature),\n",
    "               activation='relu',return_sequences=True))\n",
    "model.add(LSTM(50,activation='relu'))\n",
    "model.add(Dense(1))"
   ]
  },
  {
   "cell_type": "code",
   "execution_count": 45,
   "metadata": {},
   "outputs": [
    {
     "data": {
      "text/plain": [
       "<tensorflow.python.keras.callbacks.History at 0x1fb2b6bc4e0>"
      ]
     },
     "execution_count": 45,
     "metadata": {},
     "output_type": "execute_result"
    }
   ],
   "source": [
    "model.compile(optimizer = 'adam',loss = 'mse')\n",
    "model.fit(X,y,epochs=200,verbose=0)"
   ]
  },
  {
   "cell_type": "code",
   "execution_count": 46,
   "metadata": {},
   "outputs": [
    {
     "name": "stdout",
     "output_type": "stream",
     "text": [
      "1 day input [196.         210.         229.75874329]\n",
      "1 day outut [[241.77779]]\n",
      "2 day input [210.         229.75874329 241.77778625]\n",
      "2 day outut [[259.36752]]\n",
      "3 day input [229.75874 241.77779 259.36752]\n",
      "3 day outut [[279.45364]]\n",
      "4 day input [241.77779 259.36752 279.45364]\n",
      "4 day outut [[296.01053]]\n",
      "5 day input [259.36752 279.45364 296.01053]\n",
      "5 day outut [[316.98672]]\n",
      "6 day input [279.45364 296.01053 316.98672]\n",
      "6 day outut [[339.11426]]\n",
      "7 day input [296.01053 316.98672 339.11426]\n",
      "7 day outut [[360.619]]\n",
      "8 day input [316.98672 339.11426 360.619  ]\n",
      "8 day outut [[385.37524]]\n",
      "9 day input [339.11426 360.619   385.37524]\n",
      "9 day outut [[411.19006]]\n",
      "[229.75874, 241.77779, 259.36752, 279.45364, 296.01053, 316.98672, 339.11426, 360.619, 385.37524, 411.19006]\n"
     ]
    },
    {
     "data": {
      "text/plain": [
       "[110, 125, 133, 146, 158, 172, 187, 196, 210]"
      ]
     },
     "execution_count": 46,
     "metadata": {},
     "output_type": "execute_result"
    }
   ],
   "source": [
    "x_input = np.array([187,196,210])\n",
    "temp_input = list(x_input)\n",
    "lstoutput = []\n",
    "i=0;\n",
    "while(i<10):\n",
    "    if(len(temp_input)>3):\n",
    "        x_input = np.array(temp_input[1:])\n",
    "        print('{} day input {}'.format(i,x_input))\n",
    "        x_input = x_input.reshape((1,group,n_feature))\n",
    "        yhat = model.predict(x_input,verbose=0)\n",
    "        print('{} day outut {}'.format(i,yhat))\n",
    "        temp_input.append(yhat[0][0])\n",
    "        temp_input = temp_input[1:]\n",
    "        lstoutput.append(yhat[0][0])\n",
    "        i=i+1\n",
    "    else:\n",
    "        x_input = x_input.reshape((1,group,n_feature))\n",
    "        yhat = model.predict(x_input,verbose=0)\n",
    "        temp_input.append(yhat[0][0])\n",
    "        lstoutput.append(yhat[0][0])\n",
    "        i+=1\n",
    "print(lstoutput)\n",
    "[110,125,133,146,158,172,187,196,210]"
   ]
  },
  {
   "cell_type": "markdown",
   "metadata": {},
   "source": [
    "## Visualising Data"
   ]
  },
  {
   "cell_type": "code",
   "execution_count": 49,
   "metadata": {},
   "outputs": [],
   "source": [
    "old_day = np.arange(1,10)\n",
    "new_day = np.arange(10,20)"
   ]
  },
  {
   "cell_type": "code",
   "execution_count": 50,
   "metadata": {},
   "outputs": [
    {
     "data": {
      "text/plain": [
       "[<matplotlib.lines.Line2D at 0x1fb37b760b8>]"
      ]
     },
     "execution_count": 50,
     "metadata": {},
     "output_type": "execute_result"
    },
    {
     "data": {
      "image/png": "[encoded data removed]",
      "text/plain": [
       "<Figure size 432x288 with 1 Axes>"
      ]
     },
     "metadata": {
      "needs_background": "light"
     },
     "output_type": "display_data"
    }
   ],
   "source": [
    "plt.plot(old_day,timeseries)\n",
    "plt.plot(new_day,lstoutput)"
   ]
  },
  {
   "cell_type": "code",
   "execution_count": null,
   "metadata": {},
   "outputs": [],
   "source": []
  }
 ],
 "metadata": {
  "kernelspec": {
   "display_name": "Python 3",
   "language": "python",
   "name": "python3"
  },
  "language_info": {
   "codemirror_mode": {
    "name": "ipython",
    "version": 3
   },
   "file_extension": ".py",
   "mimetype": "text/x-python",
   "name": "python",
   "nbconvert_exporter": "python",
   "pygments_lexer": "ipython3",
   "version": "3.7.3"
  }
 },
 "nbformat": 4,
 "nbformat_minor": 2
}
